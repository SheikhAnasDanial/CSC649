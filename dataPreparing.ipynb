{
 "cells": [
  {
   "cell_type": "code",
   "execution_count": 3,
   "metadata": {},
   "outputs": [],
   "source": [
    "import pandas as pd\n",
    "import numpy as np\n",
    "from sklearn.preprocessing import StandardScaler\n",
    "from sklearn.feature_extraction.text import TfidfVectorizer\n",
    "from sklearn.metrics.pairwise import cosine_similarity\n",
    "import pickle"
   ]
  },
  {
   "cell_type": "code",
   "execution_count": 4,
   "metadata": {},
   "outputs": [],
   "source": [
    "# Load datasets\n",
    "recipes = pd.read_csv(\"recipes.csv\")"
   ]
  },
  {
   "cell_type": "code",
   "execution_count": 5,
   "metadata": {},
   "outputs": [
    {
     "name": "stdout",
     "output_type": "stream",
     "text": [
      "Dataset shape: (231637, 12)\n",
      "Columns: Index(['name', 'id', 'minutes', 'contributor_id', 'submitted', 'tags',\n",
      "       'nutrition', 'n_steps', 'steps', 'description', 'ingredients',\n",
      "       'n_ingredients'],\n",
      "      dtype='object')\n"
     ]
    }
   ],
   "source": [
    "# Display basic information about the dataset\n",
    "print(\"Dataset shape:\", recipes.shape)\n",
    "print(\"Columns:\", recipes.columns)"
   ]
  },
  {
   "cell_type": "code",
   "execution_count": 6,
   "metadata": {},
   "outputs": [],
   "source": [
    "# Step 2: Data cleaning and preprocessing\n",
    "# Focus only on columns needed: 'minutes' and 'ingredients'\n",
    "recipes = recipes[['name', 'minutes', 'ingredients', 'n_steps']]"
   ]
  },
  {
   "cell_type": "code",
   "execution_count": 7,
   "metadata": {},
   "outputs": [],
   "source": [
    "# Drop rows with missing values\n",
    "recipes.dropna(inplace=True)"
   ]
  },
  {
   "cell_type": "code",
   "execution_count": 8,
   "metadata": {},
   "outputs": [],
   "source": [
    "# Reset the index\n",
    "recipes.reset_index(drop=True, inplace=True)"
   ]
  },
  {
   "cell_type": "code",
   "execution_count": 9,
   "metadata": {},
   "outputs": [],
   "source": [
    "# Step 3: Preprocessing numerical features ('minutes')\n",
    "scaler = StandardScaler()\n",
    "recipes['scaled_minutes'] = scaler.fit_transform(recipes[['minutes']])"
   ]
  },
  {
   "cell_type": "code",
   "execution_count": 10,
   "metadata": {},
   "outputs": [],
   "source": [
    "# Step 4: Preprocessing text features ('ingredients')\n",
    "tfidf_vectorizer = TfidfVectorizer(stop_words='english', max_features=5000)\n",
    "ingredients_tfidf = tfidf_vectorizer.fit_transform(recipes['ingredients'])"
   ]
  },
  {
   "cell_type": "code",
   "execution_count": 11,
   "metadata": {},
   "outputs": [],
   "source": [
    "# Step 5: Combine features\n",
    "# Combine scaled 'minutes' and TF-IDF features for 'ingredients'\n",
    "combined_features = np.hstack([recipes[['scaled_minutes']].values, ingredients_tfidf.toarray()])"
   ]
  },
  {
   "cell_type": "code",
   "execution_count": 12,
   "metadata": {},
   "outputs": [
    {
     "name": "stdout",
     "output_type": "stream",
     "text": [
      "Preprocessing complete. Models and data saved.\n"
     ]
    }
   ],
   "source": [
    "# Step 6: Save preprocessed models and data\n",
    "with open(\"recipemodel_tfidf.pkl\", \"wb\") as tfidf_file:\n",
    "    pickle.dump(tfidf_vectorizer, tfidf_file)\n",
    "\n",
    "with open(\"recipemodel_scaler.pkl\", \"wb\") as scaler_file:\n",
    "    pickle.dump(scaler, scaler_file)\n",
    "\n",
    "with open(\"recipemodel_combined_features.pkl\", \"wb\") as combined_file:\n",
    "    pickle.dump(combined_features, combined_file)\n",
    "    \n",
    "\n",
    "# Save the processed dataset\n",
    "recipes.to_csv(\"processed_recipes.csv\", index=False)\n",
    "\n",
    "print(\"Preprocessing complete. Models and data saved.\")"
   ]
  }
 ],
 "metadata": {
  "kernelspec": {
   "display_name": "base",
   "language": "python",
   "name": "python3"
  },
  "language_info": {
   "codemirror_mode": {
    "name": "ipython",
    "version": 3
   },
   "file_extension": ".py",
   "mimetype": "text/x-python",
   "name": "python",
   "nbconvert_exporter": "python",
   "pygments_lexer": "ipython3",
   "version": "3.11.5"
  }
 },
 "nbformat": 4,
 "nbformat_minor": 2
}
